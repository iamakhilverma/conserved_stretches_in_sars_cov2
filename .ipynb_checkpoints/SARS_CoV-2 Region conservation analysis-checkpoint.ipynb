{
 "cells": [
  {
   "cell_type": "code",
   "execution_count": null,
   "id": "08cf49d8",
   "metadata": {},
   "outputs": [],
   "source": [
    "# import matplotlib.ticker as ticker\n",
    "# from collections import OrderedDict\n",
    "# from colorspacious import cspace_converter\n",
    "# from matplotlib import cm\n",
    "# import matplotlib.patches as mpatches\n",
    "# from datetime import date\n",
    "# from matplotlib import dates as mpl_dates\n",
    "# from scipy import stats\n",
    "# import scipy\n",
    "import seaborn as sns\n",
    "import numpy as np\n",
    "import pandas as pd\n",
    "import matplotlib\n",
    "import matplotlib.pyplot as plt\n",
    "%matplotlib inline\n",
    "# import datetime\n",
    "# import os\n",
    "# from glob import glob"
   ]
  },
  {
   "cell_type": "code",
   "execution_count": null,
   "id": "e6041b73",
   "metadata": {},
   "outputs": [],
   "source": [
    "# data from 03 feb '22\n",
    "df1 = pd.read_csv(\"./raw_data/03_feb_22/20220203_kumar_file1.csv\")\n",
    "df2 = pd.read_csv(\"./raw_data/03_feb_22/20220203_kumar_file2.csv\")\n",
    "df3 = pd.read_csv(\"./raw_data/03_feb_22/20220203_kumar_file3.csv\")\n",
    "\n",
    "nseqs = len(df3.index)\n",
    "print(f'Total number of SARS-CoV-2 sequnces analyzed by CovidCG: {nseqs}')"
   ]
  },
  {
   "cell_type": "code",
   "execution_count": null,
   "id": "0e45de1d",
   "metadata": {},
   "outputs": [],
   "source": []
  }
 ],
 "metadata": {
  "hide_input": false,
  "kernelspec": {
   "display_name": "Python 3 (ipykernel)",
   "language": "python",
   "name": "python3"
  },
  "language_info": {
   "codemirror_mode": {
    "name": "ipython",
    "version": 3
   },
   "file_extension": ".py",
   "mimetype": "text/x-python",
   "name": "python",
   "nbconvert_exporter": "python",
   "pygments_lexer": "ipython3",
   "version": "3.8.12"
  },
  "toc": {
   "base_numbering": 1,
   "nav_menu": {},
   "number_sections": true,
   "sideBar": true,
   "skip_h1_title": false,
   "title_cell": "Table of Contents",
   "title_sidebar": "Contents",
   "toc_cell": false,
   "toc_position": {},
   "toc_section_display": true,
   "toc_window_display": false
  },
  "varInspector": {
   "cols": {
    "lenName": 16,
    "lenType": 16,
    "lenVar": 40
   },
   "kernels_config": {
    "python": {
     "delete_cmd_postfix": "",
     "delete_cmd_prefix": "del ",
     "library": "var_list.py",
     "varRefreshCmd": "print(var_dic_list())"
    },
    "r": {
     "delete_cmd_postfix": ") ",
     "delete_cmd_prefix": "rm(",
     "library": "var_list.r",
     "varRefreshCmd": "cat(var_dic_list()) "
    }
   },
   "types_to_exclude": [
    "module",
    "function",
    "builtin_function_or_method",
    "instance",
    "_Feature"
   ],
   "window_display": false
  }
 },
 "nbformat": 4,
 "nbformat_minor": 5
}
